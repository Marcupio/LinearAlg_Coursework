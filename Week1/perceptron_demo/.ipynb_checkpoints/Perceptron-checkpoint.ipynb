{
 "cells": [
  {
   "cell_type": "code",
   "execution_count": null,
   "metadata": {},
   "outputs": [],
   "source": [
    "% perceptron - Perceptron demo with random training set.\n",
    "\n",
    "% Calculate and plot the training set.\n",
    "NPATS = 10+floor(rand(1)*30);\n",
    "Patterns = rand(2,NPATS)*2-1;\n",
    "slope = log(rand(1)*10);\n",
    "yint = rand(1)*2-1;\n",
    "Desired = Patterns(2,:) - Patterns(1,:)*slope - yint  > 0;\n",
    "PlotPats(Patterns,Desired);\n",
    "\n",
    "Inputs = [ones(1,NPATS); Patterns];\n",
    " Weights = [0 0 0];\n",
    "\n",
    "for i = 1:50\n",
    "\n",
    "  Result = (Weights * Inputs) > 0;\n",
    "\n",
    "  if Result == Desired, break, end\n",
    "\n",
    "  Weights = Weights + (Desired-Result) * Inputs';\n",
    "  fprintf('%2d.  Weights = ',i);\n",
    "  disp(Weights);\n",
    "\n",
    "  PlotBoundary(Weights,i,0)\n",
    "  \n",
    "  pause(1)\n",
    "\n",
    "end\n",
    "\n",
    "PlotBoundary(Weights,i,1)\n"
   ]
  },
  {
   "cell_type": "code",
   "execution_count": null,
   "metadata": {},
   "outputs": [],
   "source": []
  },
  {
   "cell_type": "code",
   "execution_count": null,
   "metadata": {},
   "outputs": [],
   "source": []
  }
 ],
 "metadata": {
  "kernelspec": {
   "display_name": "Octave",
   "language": "octave",
   "name": "octave"
  },
  "language_info": {
   "name": ""
  }
 },
 "nbformat": 4,
 "nbformat_minor": 4
}
