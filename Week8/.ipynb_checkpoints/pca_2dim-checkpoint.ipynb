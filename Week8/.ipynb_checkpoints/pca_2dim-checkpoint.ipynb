{
 "cells": [
  {
   "cell_type": "code",
   "execution_count": 2,
   "metadata": {},
   "outputs": [
    {
     "data": {
      "image/png": "[encoded data removed]",
      "text/plain": [
       "<Figure size 432x288 with 1 Axes>"
      ]
     },
     "metadata": {
      "needs_background": "light"
     },
     "output_type": "display_data"
    }
   ],
   "source": [
    "'''\n",
    "%PCA Run principal component analysis  \n",
    "%   \n",
    "% initialize samples of x and y training dataset\n",
    "% boy's height with age\n",
    "'''\n",
    "import numpy as np\n",
    "import pandas as pd\n",
    "import matplotlib.pyplot as plt\n",
    "\n",
    "\n",
    "x = np.loadtxt('ex2x.dat')\n",
    "y  = np.loadtxt('ex2y.dat')  #house cost\n",
    "\n",
    "x = x[:,None]\n",
    "y = y[:,None]\n",
    "\n",
    "m = len(y); # store the number of training examples\n",
    "plt.figure #% open a new figure window\n",
    "#%plot your training set (and label the axes):\n",
    "plt.plot(x, y, 'o');\n",
    "plt.ylabel('Height in meters')\n",
    "plt.xlabel('Age in years')\n",
    "plt.title('Original 2D data');"
   ]
  },
  {
   "cell_type": "code",
   "execution_count": 4,
   "metadata": {},
   "outputs": [
    {
     "data": {
      "text/plain": [
       "<matplotlib.quiver.Quiver at 0x1bbe5059940>"
      ]
     },
     "execution_count": 4,
     "metadata": {},
     "output_type": "execute_result"
    },
    {
     "data": {
      "image/png": "[encoded data removed]",
      "text/plain": [
       "<Figure size 432x288 with 1 Axes>"
      ]
     },
     "metadata": {
      "needs_background": "light"
     },
     "output_type": "display_data"
    }
   ],
   "source": [
    "data=np.hstack((x,y))#[x,y]\n",
    "mu = [np.mean(data[:,0]),np.mean(data[:,1])] #% each row is a data sample\n",
    "mu_mat = mu + np.zeros((m,1))\n",
    "data_m = (data[:] - mu_mat[:])\n",
    "\n",
    "# ====================== YOUR CODE HERE ======================\n",
    "#Compute the covariance matrix- one line of code\n",
    "# Note: When computing the covariance matrix, remember to divide by m (the\n",
    "# number of examples).\n",
    "Sx = np.cov(data_m,rowvar=False)\n",
    "\n",
    "\n",
    "# %  Then use the \"svd\" function to compute the eigenvectors\n",
    "#%     and eigenvalues of the covariance matrix. \n",
    "[U,D,V]  = np.linalg.svd(Sx)\n",
    "\n",
    "\n",
    "# ====================== YOUR CODE END ======================\n",
    "\n",
    "largest_eigenvec = V[:,0]\n",
    "largest_eigenval = D[0];\n",
    "medium_eigenvec = V[:,1];\n",
    "medium_eigenval = D[1];\n",
    "X0=mu[0]\n",
    "Y0=mu[1]\n",
    "plt.quiver([X0,Y0],  largest_eigenvec[0]*np.sqrt(largest_eigenval), largest_eigenvec[1]*np.sqrt(largest_eigenval))\n",
    "plt.quiver([X0, Y0],  medium_eigenvec[1]*np.sqrt(medium_eigenval), medium_eigenvec[1]*np.sqrt(medium_eigenval))\n",
    "data_2d = data_m@V #Projects the data along the both eigven vector directions, One column is along the largest eigen vector, the other column is along the medium eigenvector.\n",
    "\n",
    "#% Plot the 2D decorrelated data \n",
    "#figure;\n",
    "plt.plot(data_2d[:,0], data_2d[:,1], 'o')\n",
    "plt.set_cmap('Greys')\n",
    "#hold on;\n",
    "#% Plot the eigenvectors (which are now the axes\n",
    "plt.quiver( 0,0,1*np.sqrt(largest_eigenval), 0*np.sqrt(largest_eigenval))\n",
    "plt.quiver(0, 0, 0*np.sqrt(medium_eigenval), 1*np.sqrt(medium_eigenval))\n",
    "#hold on;\n"
   ]
  },
  {
   "cell_type": "code",
   "execution_count": 5,
   "metadata": {},
   "outputs": [
    {
     "name": "stdout",
     "output_type": "stream",
     "text": [
      "Matrix of Covariance: \n",
      "\n",
      " [[2.984218   0.19063532]\n",
      " [0.19063532 0.01419244]] \n",
      "\n",
      "Major Principal Component: \n",
      "\n",
      " [-0.99796309 -0.06379393] \n",
      "\n"
     ]
    },
    {
     "data": {
      "image/png": "[encoded data removed]",
      "text/plain": [
       "<Figure size 432x288 with 1 Axes>"
      ]
     },
     "metadata": {
      "needs_background": "light"
     },
     "output_type": "display_data"
    }
   ],
   "source": [
    "#%%%%%%%%%%%%% PROJECT THE DATA ONTO THE LARGEST EIGENVECTOR %%%%%%%%%%%\n",
    "\n",
    "eigenvec_1d=largest_eigenvec\n",
    "\n",
    "data_1d = data_m@eigenvec_1d #Projects the data along the largest eigenvector 'direction'\n",
    "\n",
    "#% Plot the 1D data\n",
    "#figure;\n",
    "#repmat(0, size(data_1d.transpose(),1), 1)\n",
    "ys = np.zeros((len(data_1d),1))\n",
    "plt.plot(data_1d, ys , 'o')\n",
    "plt.set_cmap('Greys')\n",
    "\n",
    "#% Plot the eigenvector\n",
    "#hold on;\n",
    "plt.quiver(0, 0, 1*np.sqrt(largest_eigenval), 0*np.sqrt(largest_eigenval))\n",
    "#hold on;\n",
    "\n",
    "#% Set the axis labels\n",
    "plt.xlabel('x')\n",
    "plt.ylabel('y')\n",
    "\n",
    "plt.title('Projected 1D data')\n",
    "#grid on;\n",
    "\n",
    "print(\"Matrix of Covariance: \\n\\n\", Sx, \"\\n\")\n",
    "print(\"Major Principal Component: \\n\\n\",V[:,0],\"\\n\")\n",
    "#disp(\"End of the program\");\n"
   ]
  },
  {
   "cell_type": "code",
   "execution_count": null,
   "metadata": {},
   "outputs": [],
   "source": []
  }
 ],
 "metadata": {
  "kernelspec": {
   "display_name": "Python 3",
   "language": "python",
   "name": "python3"
  },
  "language_info": {
   "codemirror_mode": {
    "name": "ipython",
    "version": 3
   },
   "file_extension": ".py",
   "mimetype": "text/x-python",
   "name": "python",
   "nbconvert_exporter": "python",
   "pygments_lexer": "ipython3",
   "version": "3.7.1"
  }
 },
 "nbformat": 4,
 "nbformat_minor": 4
}
