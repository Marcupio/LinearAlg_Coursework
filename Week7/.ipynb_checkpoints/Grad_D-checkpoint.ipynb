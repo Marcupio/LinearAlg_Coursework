{
 "cells": [
  {
   "cell_type": "code",
   "execution_count": null,
   "metadata": {},
   "outputs": [],
   "source": [
    "def Gradient_Descent(x_data,y_data,iterations = 100, alpha = 0.007):\n",
    "    \n",
    "    x = x_data\n",
    "    y = y_data\n",
    "    \n",
    "    w = [0,0] #vector of weights that gets adjusted as we gradient descent\n",
    "    #iterations = 50\n",
    "    #alpha = 0.007\n",
    "    cost= np.zeros((iterations,1)) #cost values used to help us minimize\n",
    "    y[:] = (y[:] - mu_y)/sigma_y #normalize data for y\n",
    "\n",
    "    for iter in range(iterations):\n",
    "#insert your code here\n",
    "        x_train = x@w\n",
    "        err = y[:] - x_train[:]\n",
    "        cost[iter] = 1/m*np.dot(err,err) #mean square error as a function of weights\n",
    "    \n",
    "#% this is the code to calculate weights\n",
    "        grad = x.transpose()@(x_train[:] - y[:])\n",
    "        w = w - (grad)*alpha\n",
    "        \n",
    "    return(w,cost)\n",
    "\n",
    "def MSE(x_data,y_data):\n",
    "    \n",
    "    x = x_data\n",
    "    y = y_data\n",
    "    \n",
    "    mse = np.zeros((100, 100)) #initialize mse to 100x100 matrix of 0's\n",
    "    w0 = np.linspace(100000,500000,100)\n",
    "    w1 = np.linspace(1000,300000,100)\n",
    "\n",
    "    for i in range(len(w0)):\n",
    "        for j in range(len(w1)):\n",
    "            t = np.asarray([w0[i], w1[j]])\n",
    "            x_train = x@t\n",
    "            err = y[:] - x_train[:]\n",
    "            mse[i,j] =1/m*np.dot(err,err) #mean square error as a function of weights\n",
    "   \n",
    "    return(w0, w1, mse)"
   ]
  }
 ],
 "metadata": {
  "kernelspec": {
   "display_name": "Python 3",
   "language": "python",
   "name": "python3"
  },
  "language_info": {
   "codemirror_mode": {
    "name": "ipython",
    "version": 3
   },
   "file_extension": ".py",
   "mimetype": "text/x-python",
   "name": "python",
   "nbconvert_exporter": "python",
   "pygments_lexer": "ipython3",
   "version": "3.7.1"
  }
 },
 "nbformat": 4,
 "nbformat_minor": 4
}
