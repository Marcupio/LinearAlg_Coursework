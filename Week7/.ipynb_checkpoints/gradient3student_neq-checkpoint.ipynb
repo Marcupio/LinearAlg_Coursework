{
 "cells": [
  {
   "cell_type": "code",
   "execution_count": null,
   "metadata": {},
   "outputs": [],
   "source": [
    "%in this exercise, you will investigate linear regression using gradient descent\n",
    "% and the normal equations\n",
    "%This is a training set of housing prices in Portland, Oregon, where \n",
    "%y are the prices and the inputs $x are the living area and the number of bedrooms.\n",
    "%we will use only living area in this assigment\n",
    "% initialize samples of x and y training dataset\n",
    "% \n",
    "x2 = load('ex3x.dat');\n",
    "y = load('ex3y.dat');  %house cost\n",
    "x=x2(:,1);  %only living area\n",
    " \n",
    "m = length(y); % store the number of training examples\n",
    "x = [ones(m, 1), x]; % Add a column of ones to x\n",
    "%the area values from your training data are actually in the second column of x\n",
    "\n",
    "\n",
    "%calculate parametar w using normal equation\n",
    " %your code here\n",
    " %\n",
    " %w=\n",
    " \n",
    " %code end\n",
    "disp(\"w0 w1\"),disp(wn);\n",
    " \n",
    "#predict the house price with 1650sf\n",
    "disp(\"house prediction for 1650s, normal eq:\"),disp([1,1650]*wn);\n",
    "yp=x*wn;\n",
    "\n",
    "#plot data and regression line\n",
    "figure % open a new figure window\n",
    "# plot your training set (and label the axes):\n",
    "plot(x(:,2),y,'o');\n",
    "ylabel('house cost')\n",
    "xlabel('house sf')\n",
    "hold\n",
    "plot(x(:,2),yp,'-');"
   ]
  },
  {
   "cell_type": "code",
   "execution_count": null,
   "metadata": {},
   "outputs": [],
   "source": []
  }
 ],
 "metadata": {
  "kernelspec": {
   "display_name": "Octave",
   "language": "octave",
   "name": "octave"
  },
  "language_info": {
   "name": ""
  }
 },
 "nbformat": 4,
 "nbformat_minor": 4
}
